{
 "cells": [
  {
   "cell_type": "code",
   "execution_count": 15,
   "metadata": {},
   "outputs": [],
   "source": [
    "\n",
    "#Import Packages\n",
    "import pandas as pd\n",
    "import numpy as np\n",
    "import glob\n",
    "from pandasql import sqldf\n",
    "import datetime\n",
    "import requests\n",
    "import bs4"
   ]
  },
  {
   "cell_type": "code",
   "execution_count": 16,
   "metadata": {},
   "outputs": [],
   "source": [
    "\n",
    "#Global\n",
    "pysqldf = lambda q: sqldf(q, globals())\n",
    "now = datetime.datetime.now()\n",
    "pd.set_option('display.float_format', '{:.4f}'.format)"
   ]
  },
  {
   "cell_type": "code",
   "execution_count": 17,
   "metadata": {},
   "outputs": [],
   "source": [
    "\n",
    "#import\n",
    "df_private = pd.read_excel('Data/TransactionDatabase.xlsx')\n",
    "df_rental = pd.read_excel('Data/RentalDatabase.xlsx')\n",
    "df_developer = pd.read_excel('Data/DeveloperDatabase.xlsx')\n",
    "df_pipeline = pd.read_excel('Data/Pipeline.xlsx')\n",
    "df_regionmapping = pd.read_excel('Data/Region District.xlsx')\n",
    "df_private.drop(df_private.filter(regex=\"Unnamed\"),axis=1, inplace=True)\n",
    "df_rental.drop(df_rental.filter(regex=\"Unnamed\"),axis=1, inplace=True)\n",
    "df_developer.drop(df_developer.filter(regex=\"Unnamed\"),axis=1, inplace=True)\n",
    "df_pipeline.drop(df_pipeline.filter(regex=\"Unnamed\"),axis=1, inplace=True)\n",
    "df_regionmapping.drop(df_pipeline.filter(regex=\"Unnamed\"),axis=1, inplace=True)"
   ]
  },
  {
   "cell_type": "code",
   "execution_count": 18,
   "metadata": {},
   "outputs": [],
   "source": [
    "\n",
    "#Transform Data\n",
    "df_propertydetails = df_private[['project','TenureType','BuildYear','LeaseYear']].drop_duplicates(subset = ['project'],keep = 'first')\n",
    "# #Check distinct\n",
    "# q = \"\"\" select count(project) as cnt, project from df_propertydetails group by project having cnt > 1 \"\"\"\n",
    "# queryresult = pysqldf(q)\n",
    "# queryresult\n",
    "#join region details\n",
    "df_pipeline = df_pipeline.merge(df_regionmapping[['Postal District','Region']],how='left', left_on='district', right_on='Postal District')\n",
    "df_rental = df_rental.merge(df_regionmapping[['Postal District','Region']],how='left', left_on='district', right_on='Postal District')\n",
    "#Join property details\n",
    "df_rental = df_rental.merge(df_propertydetails,how='left', left_on='project', right_on='project')\n",
    "df_rental['TenureType'] = df_rental['TenureType'].fillna('NA')\n",
    "\n",
    "#per unit\n",
    "df_private['priceperunit'] = df_private['price']/df_private['noOfUnits']\n",
    "df_private['areaperunit'] = df_private['area']/df_private['noOfUnits']\n",
    "\n",
    "#getYear\n",
    "df_private['year']= pd.to_datetime(df_private['contractDate']).dt.year\n"
   ]
  },
  {
   "cell_type": "code",
   "execution_count": 19,
   "metadata": {},
   "outputs": [],
   "source": [
    "\n",
    "#Scrap TOP information\n",
    "def findTOP (project):\n",
    "    text= project + \" Singapore top date\"\n",
    "    url = 'https://google.com/search?q=' + text\n",
    "    # Fetch the URL data using requests.get(url),\n",
    "    # store it in a variable, request_result.\n",
    "    request_result=requests.get( url )  \n",
    "    # Creating soup from the fetched request\n",
    "    soup = bs4.BeautifulSoup(request_result.text,\n",
    "                            \"html.parser\")\n",
    "    # with open(\"output.html\", \"w\", encoding = 'utf-8') as file:\n",
    "    # # prettify the soup object and convert it into a string  \n",
    "    #     file.write(str(soup.prettify()))\n",
    "    element = soup.find_all(\"td\",{'class': 'sjsZvd s5aIid OE1use'}) \n",
    "    ele = 0\n",
    "    for i in element:\n",
    "        try:\n",
    "            if int(i.text[-19:14][-4:])>ele and int(i.text[-19:14][-4:]) > 2000:\n",
    "                    ele= int(i.text[-19:14][-4:])  \n",
    "        except ValueError:\n",
    "            try:\n",
    "                if int('20'+i.text[-26:14][-2:]) > ele and int('20'+i.text[-26:14][-2:]) < 2030 and int('20'+i.text[-26:14][-2:]) > 2000:\n",
    "                    ele = int('20'+i.text[-26:14][-2:])\n",
    "            except: \n",
    "                ele = ele                   \n",
    "        finally:\n",
    "            ele = ele\n",
    "    try:\n",
    "        return ele\n",
    "    except:\n",
    "        return \"NA\"\n",
    "\n",
    "#Get Unique projects from developer list and pipeline\n",
    "maxdate = df_developer['refPeriod'].max()\n",
    "df_developer_latest = df_developer[df_developer['refPeriod'] == maxdate]\n",
    "df_project = df_developer_latest[['project','district','street']].append(df_pipeline[['project','district','street']]).drop_duplicates()\n",
    "df_project['TOP'] = df_project.apply(lambda x: findTOP(x['project']),axis = 1)"
   ]
  },
  {
   "cell_type": "code",
   "execution_count": 34,
   "metadata": {},
   "outputs": [
    {
     "name": "stderr",
     "output_type": "stream",
     "text": [
      "/Users/opx/opt/anaconda3/lib/python3.7/site-packages/ipykernel_launcher.py:25: SettingWithCopyWarning: \n",
      "A value is trying to be set on a copy of a slice from a DataFrame.\n",
      "Try using .loc[row_indexer,col_indexer] = value instead\n",
      "\n",
      "See the caveats in the documentation: http://pandas.pydata.org/pandas-docs/stable/user_guide/indexing.html#returning-a-view-versus-a-copy\n",
      "/Users/opx/opt/anaconda3/lib/python3.7/site-packages/ipykernel_launcher.py:26: SettingWithCopyWarning: \n",
      "A value is trying to be set on a copy of a slice from a DataFrame.\n",
      "Try using .loc[row_indexer,col_indexer] = value instead\n",
      "\n",
      "See the caveats in the documentation: http://pandas.pydata.org/pandas-docs/stable/user_guide/indexing.html#returning-a-view-versus-a-copy\n"
     ]
    }
   ],
   "source": [
    "#Infer capital gain from new sale data\n",
    "#Identify different type of sales\n",
    "#\tThe type of sale\n",
    "#1 – New Sale\n",
    "#2 – Sub Sale\n",
    "#3 – Resale\n",
    "\n",
    "#Join average cost based on:\n",
    "# resale: price 3 years ago - ssd applicable if sold <= 3 years of ownership (2 years average)\n",
    "# subsale: price CY and PY - before top (2 years average)\n",
    "def resalecost(project,year,area,floorRange):\n",
    "   # df_years = df_private.loc[(df_private['year']<= year-3 ) & (df_private['year'] >= year-5) & (df_private['project'] == project) & (df_private['area'] == area) & (df_private['floorRange'] == floorRange)]\n",
    "   df_new = df_private.loc[(df_private['typeOfSale'] == 1)& (df_private['project'] == project) & (df_private['area'] == area) & (df_private['floorRange'] == floorRange)]\n",
    "   cost = df_new[\"priceperunit\"].mean()\n",
    "   return cost\n",
    "def subsalecost(project,year,area,floorRange):\n",
    "   # df_years = df_private.loc[(df_private['year']<= year ) & (df_private['year'] >= year-1) & (df_private['project'] == project) & (df_private['area'] == area) & (df_private['floorRange'] == floorRange)]\n",
    "   df_new = df_private.loc[(df_private['typeOfSale'] == 1)& (df_private['project'] == project) & (df_private['area'] == area) & (df_private['floorRange'] == floorRange)]\n",
    "   cost = df_new[\"priceperunit\"].mean()\n",
    "   return cost\n",
    "\n",
    "maxdate = df_private['year'].max()\n",
    "mindate = maxdate - 5\n",
    "df_privatecondo = df_private.loc[(df_private['propertyType'].isin(['Condominium','Apartment','Executive Condominium'])) & (df_private['year'] > mindate)]\n",
    "df_privatecondo['cost'] = 0\n",
    "df_privatecondo['cost'] = df_privatecondo.apply(lambda x : resalecost(x['project'],x['year'],x['area'],x['floorRange']) if x['typeOfSale'] == 3 else (subsalecost(x['project'],x['year'],x['area'],x['floorRange']) if x['typeOfSale'] == 2 else None),axis = 1)"
   ]
  },
  {
   "cell_type": "code",
   "execution_count": 36,
   "metadata": {},
   "outputs": [
    {
     "name": "stderr",
     "output_type": "stream",
     "text": [
      "/Users/opx/opt/anaconda3/lib/python3.7/site-packages/ipykernel_launcher.py:13: SettingWithCopyWarning: \n",
      "A value is trying to be set on a copy of a slice from a DataFrame.\n",
      "Try using .loc[row_indexer,col_indexer] = value instead\n",
      "\n",
      "See the caveats in the documentation: http://pandas.pydata.org/pandas-docs/stable/user_guide/indexing.html#returning-a-view-versus-a-copy\n",
      "  del sys.path[0]\n"
     ]
    }
   ],
   "source": [
    "\n",
    "#combine open projects\n",
    "df_pipeline['project'] = df_pipeline['project'].str.upper()\n",
    "\n",
    "df_pipeline['project'] = df_pipeline.apply(lambda x : 'PARC KOMO' if x['project'] == 'PARC KOMO/KOMO SHOPPES' else x['project'], axis = 1)\n",
    "\n",
    "df_pipelinena = df_pipeline.merge(df_developer_latest[['project','unitsAvail']], how='left', left_on='project',right_on='project')\n",
    "df_pipelinenaresults = df_pipelinena[df_pipelinena['unitsAvail'].isna()]\n",
    "inpipeline = df_pipelinenaresults['project'].values.tolist() \n",
    "\n",
    "df_pipelinefilter = df_pipeline[df_pipeline['project'].isin(inpipeline)]\n",
    "df_pipelinefilter2 = df_pipelinefilter[['street','district','project','developerName','totalUnits','Region']]\n",
    "df_pipelinefilter2.rename(columns={\"developerName\": \"developer\", \"totalUnits\": \"unitsAvail\", \"Region\": \"marketSegment\"},inplace= True)\n",
    "df_pipelinefilter2['refPeriod'] = maxdate\n",
    "df_openprojects = df_developer.append(df_pipelinefilter2)"
   ]
  },
  {
   "cell_type": "code",
   "execution_count": 37,
   "metadata": {},
   "outputs": [],
   "source": [
    "#join if open project\n",
    "\n",
    "df_opendistinct = df_openprojects[['project','marketSegment','district','developer']].drop_duplicates()\n",
    "df_privatecondo1 =  df_privatecondo.merge(df_opendistinct,how='left', left_on=['project','marketSegment','district'], right_on=['project','marketSegment','district'])"
   ]
  },
  {
   "cell_type": "code",
   "execution_count": 38,
   "metadata": {},
   "outputs": [],
   "source": [
    "\n",
    "#join data - TOP,Tenure\n",
    "df_openprojects = df_openprojects.merge(df_propertydetails,how='left', left_on='project', right_on='project')\n",
    "df_openprojects['TenureType'] = df_openprojects['TenureType'].fillna('NA')\n",
    "df_openprojects = df_openprojects.merge(df_project[['project','TOP']],how='left', left_on='project', right_on='project')\n",
    "df_openprojects['TOP'] = df_openprojects['TOP'].fillna('NA')"
   ]
  },
  {
   "cell_type": "code",
   "execution_count": 39,
   "metadata": {},
   "outputs": [],
   "source": [
    "\n",
    "df_privatecondo1.to_excel('Data/PrivateTransactionClean.xlsx')\n",
    "df_rental.to_excel('Data/RentalClean.xlsx')\n",
    "df_openprojects.to_excel('Data/OpenProjectsClean.xlsx')\n",
    "df_private.to_excel('Data/TransactionClean.xlsx')"
   ]
  }
 ],
 "metadata": {
  "interpreter": {
   "hash": "6cacba8080cd7cb3765c9c84d2a4a5dd6dd11f91a8a57f8f89ab82e3916942d1"
  },
  "kernelspec": {
   "display_name": "Python 3.7.4 64-bit ('base': conda)",
   "name": "python3"
  },
  "language_info": {
   "codemirror_mode": {
    "name": "ipython",
    "version": 3
   },
   "file_extension": ".py",
   "mimetype": "text/x-python",
   "name": "python",
   "nbconvert_exporter": "python",
   "pygments_lexer": "ipython3",
   "version": "3.7.4"
  },
  "orig_nbformat": 4
 },
 "nbformat": 4,
 "nbformat_minor": 2
}
