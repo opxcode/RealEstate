{
 "cells": [
  {
   "cell_type": "code",
   "execution_count": 1,
   "metadata": {},
   "outputs": [],
   "source": [
    "\n",
    "#Import Packages\n",
    "import pandas as pd\n",
    "import requests\n",
    "from pandas.io.json import json_normalize\n",
    "import datetime\n",
    "import math\n",
    "from dateutil.relativedelta import relativedelta\n",
    "from pandasql import sqldf\n",
    "import config\n"
   ]
  },
  {
   "cell_type": "code",
   "execution_count": 2,
   "metadata": {},
   "outputs": [],
   "source": [
    "\n",
    "#Global\n",
    "pysqldf = lambda q: sqldf(q, globals())\n",
    "now = datetime.date.today()\n",
    "pd.set_option('display.float_format', '{:.4f}'.format)\n"
   ]
  },
  {
   "cell_type": "code",
   "execution_count": 3,
   "metadata": {},
   "outputs": [],
   "source": [
    "\n",
    "#Token\n",
    "token_url = 'https://www.ura.gov.sg/uraDataService/insertNewToken.action'\n",
    "AccessKey = config.AccessKey\n",
    "#http://httpbin.org/get to get user-agent\n",
    "useragent = \"Mozilla/5.0 (Macintosh; Intel Mac OS X 10_15_7) AppleWebKit/537.36 (KHTML, like Gecko) Chrome/91.0.4472.114 Safari/537.36\"\n",
    "tokenheaders = {'AccessKey': AccessKey, 'User-Agent':useragent }\n",
    "tokenreq =requests.get(token_url, headers= tokenheaders).json()\n",
    "TokenKey = tokenreq['Result']\n",
    "apiheaders = {'AccessKey': AccessKey, 'Token': TokenKey, 'User-Agent':useragent }"
   ]
  },
  {
   "cell_type": "code",
   "execution_count": 63,
   "metadata": {},
   "outputs": [],
   "source": [
    "\n",
    "#GET API - private transaction\n",
    "privatetransaction_url1 = 'https://www.ura.gov.sg/uraDataService/invokeUraDS?service=PMI_Resi_Transaction&batch=1'\n",
    "privatetransaction_url2 = 'https://www.ura.gov.sg/uraDataService/invokeUraDS?service=PMI_Resi_Transaction&batch=2'\n",
    "privatetransaction_url3 = 'https://www.ura.gov.sg/uraDataService/invokeUraDS?service=PMI_Resi_Transaction&batch=3'\n",
    "privatetransaction_url4 = 'https://www.ura.gov.sg/uraDataService/invokeUraDS?service=PMI_Resi_Transaction&batch=4'\n",
    "\n",
    "\n",
    "batch1req = requests.get(privatetransaction_url1, headers= apiheaders).json()\n",
    "batch2req = requests.get(privatetransaction_url2, headers= apiheaders).json()\n",
    "batch3req = requests.get(privatetransaction_url3, headers= apiheaders).json()\n",
    "batch4req = requests.get(privatetransaction_url4, headers= apiheaders).json()\n"
   ]
  },
  {
   "cell_type": "code",
   "execution_count": 20,
   "metadata": {},
   "outputs": [],
   "source": [
    "\n",
    "#GET API - rental transaction\n",
    "rentaltransaction_url = 'https://www.ura.gov.sg/uraDataService/invokeUraDS?service=PMI_Resi_Rental&refPeriod='\n",
    "#get past 5 years\n",
    "# refperiod = str(now.year)[-2:] + 'q'+str(math.floor(now.month/3))\n",
    "#input vlaue\n",
    "refperiod = '21q4'\n",
    "rentalreq = requests.get(rentaltransaction_url+refperiod, headers= apiheaders).json()\n",
    "df_rental = json_normalize(data=rentalreq['Result'], record_path='rental', \n",
    "                            meta=['street','project'])                          "
   ]
  },
  {
   "cell_type": "code",
   "execution_count": null,
   "metadata": {},
   "outputs": [],
   "source": [
    "\n",
    "#GET API - developer transaction\n",
    "developer_url = 'https://www.ura.gov.sg/uraDataService/invokeUraDS?service=PMI_Resi_Developer_Sales&refPeriod='\n",
    "#cuumlative 3 years as of date\n",
    "# if (now.month - 1 < 10):\n",
    "#     refperiod2 = '0'+str(now.month-1)+ str(now.year)[-2:] \n",
    "# else:\n",
    "#      refperiod2 = str(now.month-1)+ str(now.year)[-2:] \n",
    "refperiod2 = '0122'\n",
    "developerreq = requests.get(developer_url+refperiod2, headers= apiheaders).json()\n"
   ]
  },
  {
   "cell_type": "code",
   "execution_count": 66,
   "metadata": {},
   "outputs": [],
   "source": [
    "\n",
    "#GET API - latest in pipeline \n",
    "pipeline_url = 'https://www.ura.gov.sg/uraDataService/invokeUraDS?service=PMI_Resi_Pipeline'\n",
    "#Update Frequency: End of day of every 4th Friday of January, April, July and October\n",
    "pipelinereq = requests.get(pipeline_url, headers= apiheaders).json()"
   ]
  },
  {
   "cell_type": "code",
   "execution_count": 82,
   "metadata": {},
   "outputs": [],
   "source": [
    "#Transform to dataframe - private transaction\n",
    "df_batch1 = json_normalize(data=batch1req['Result'], record_path='transaction', \n",
    "                            meta=['street','project', 'marketSegment'])\n",
    "df_batch2 = json_normalize(data=batch2req['Result'], record_path='transaction', \n",
    "                            meta=['street','project', 'marketSegment'])\n",
    "df_batch3 = json_normalize(data=batch3req['Result'], record_path='transaction', \n",
    "                            meta=['street','project', 'marketSegment'])\n",
    "df_batch4 = json_normalize(data=batch4req['Result'], record_path='transaction', \n",
    "                            meta=['street','project', 'marketSegment'])\n",
    "df_private = df_batch1.append([df_batch2, df_batch3,df_batch4])"
   ]
  },
  {
   "cell_type": "code",
   "execution_count": null,
   "metadata": {},
   "outputs": [],
   "source": [
    "#Transform to dataframe - rental transaction\n",
    "df_rental = json_normalize(data=rentalreq['Result'], record_path='rental', \n",
    "                            meta=['street','project'])"
   ]
  },
  {
   "cell_type": "code",
   "execution_count": null,
   "metadata": {},
   "outputs": [],
   "source": [
    "#Transform to dataframe - developer transaction \n",
    "df_developer = json_normalize(data=developerreq['Result'], record_path='developerSales', \n",
    "                            meta=['street','district','propertyType','project','developer','marketSegment'])\n"
   ]
  },
  {
   "cell_type": "code",
   "execution_count": null,
   "metadata": {},
   "outputs": [],
   "source": [
    "\n",
    "#Transform to dataframe - latest in pipeline \n",
    "df_pipeline = json_normalize(data=pipelinereq['Result'])\n",
    "df_pipeline.sample(5)"
   ]
  },
  {
   "cell_type": "code",
   "execution_count": 84,
   "metadata": {},
   "outputs": [],
   "source": [
    "\n",
    "#Format Data\n",
    "df_private['contractDate'] = '01' +df_private['contractDate'] \n",
    "df_rental['leaseDate']  = '01' +df_rental['leaseDate'] \n",
    "df_developer['refPeriod']  = '01' +df_developer['refPeriod']\n",
    "df_private['contractDate'] = df_private['contractDate'].apply(lambda x: datetime.datetime.strptime(x, '%d%m%y').strftime('%d-%m-%y'))\n",
    "df_rental['leaseDate'] = df_rental['leaseDate'] .apply(lambda x: datetime.datetime.strptime(x, '%d%m%y').strftime('%d-%m-%y'))\n",
    "df_developer['refPeriod'] = df_developer['refPeriod'].apply(lambda x: datetime.datetime.strptime(x, '%d%m%y').strftime('%d-%m-%y'))"
   ]
  },
  {
   "cell_type": "code",
   "execution_count": 87,
   "metadata": {},
   "outputs": [],
   "source": [
    "\n",
    "#Add Data\n",
    "def fourth_friday(year, month):\n",
    "    \"\"\"Return datetime.date for monthly option expiration given year and\n",
    "    month\n",
    "    \"\"\"\n",
    "    # The 15th is the lowest third day in the month\n",
    "    fourth = datetime.date(year, month, 28)\n",
    "    # What day of the week is the 15th?\n",
    "    w = fourth.weekday()\n",
    "    # Friday is weekday 4\n",
    "    if w != 4:\n",
    "        # Replace just the day (of month)\n",
    "        fourth = fourth.replace(day=(28 + (4 - w) % 7))\n",
    "    return fourth\n",
    "#Update Frequency: End of day of every 4th Friday of January, April, July and October\n",
    "jandate = fourth_friday(now.year,1)\n",
    "aprdate = fourth_friday(now.year,4)\n",
    "juldate = fourth_friday(now.year,7)\n",
    "octdate = fourth_friday(now.year,10)\n",
    "\n",
    "if now >= octdate:\n",
    "   datadate = octdate\n",
    "elif now >= juldate:\n",
    "    datadate = juldate\n",
    "elif now >= aprdate:\n",
    "    datadate = aprdate\n",
    "else:\n",
    "    datadate = jandate\n",
    "df_pipeline['datadate'] = datadate\n",
    "\n",
    "# Get Tenure details \n",
    "df_private['TenureType'] = df_private['tenure'].apply(lambda x: x if x == 'Freehold' else 'Leasehold')\n",
    "df_private['BuildYear'] = df_private['tenure'].apply(lambda x: None if x == 'Freehold' else str(x)[-4:])\n",
    "df_private['LeaseYear'] = df_private['tenure'].apply(lambda x: None if x == 'Freehold' else \\\n",
    "    (str(x)[:6][:2] if str(x)[:6][-3:] == 'yrs' else \\\n",
    "        (str(x)[:6][:3] if str(x)[:6][-2:] == 'yr' else\\\n",
    "            (str(x)[:6][:4] if str(x)[:6][-1:] == 'y' else '999999'))))\n"
   ]
  },
  {
   "cell_type": "code",
   "execution_count": 89,
   "metadata": {},
   "outputs": [],
   "source": [
    "\n",
    "#Keep old version\n",
    "df_privatedatabase = pd.read_excel('Data/TransactionDatabase.xlsx')\n",
    "df_privatedatabase.drop(df_privatedatabase.filter(regex=\"Unnamed\"),axis=1, inplace=True)\n",
    "df_privatedatabase.to_excel('History/TransactionDatabaseOld.xlsx')\n",
    "df_rentaldatabase = pd.read_excel('Data/RentalDatabase.xlsx')\n",
    "df_rentaldatabase.drop(df_rentaldatabase.filter(regex=\"Unnamed\"),axis=1, inplace=True)\n",
    "df_rentaldatabase.to_excel('History/RentalDatabaseOld.xlsx')\n",
    "df_developerdatabase = pd.read_excel('Data/DeveloperDatabase.xlsx')\n",
    "df_developerdatabase.drop(df_developerdatabase.filter(regex=\"Unnamed\"),axis=1, inplace=True)\n",
    "df_developerdatabase.to_excel('History/DeveloperDatabaseOld.xlsx')"
   ]
  },
  {
   "cell_type": "code",
   "execution_count": null,
   "metadata": {},
   "outputs": [],
   "source": [
    "\n",
    "#Append Database\n",
    "# TO CHECK!!!!! in next append\n",
    "#Private Transactions\n",
    "# update 61 months; keep data > 61 months\n",
    "df_private['contractDate'] = pd.to_datetime(df_private['contractDate'],errors='coerce')\n",
    "last_date = df_private['contractDate'].max()\n",
    "max_date = last_date + relativedelta(years = -5)\n",
    "df_privatedatabase['contractDate'] = pd.to_datetime(df_privatedatabase['contractDate'],errors='coerce')\n",
    "df_historical = df_privatedatabase[(df_privatedatabase['contractDate'] >= max_date)]\n",
    "df_privatedatabaseappend = df_historical.append(df_private).drop_duplicates()\n",
    "\n",
    "\n",
    "#Rental Transactions\n",
    "# update 61 months; keep data > 61 months\n",
    "df_rental['leaseDate'] = pd.to_datetime(df_rental['leaseDate'],errors='coerce')\n",
    "last_date = df_rental['leaseDate'].max()\n",
    "max_date = last_date + relativedelta(years = -5)\n",
    "df_renthistorical = df_rentaldatabase[(df_rentaldatabase['leaseDate'] >= max_date)]\n",
    "df_rentaldatabaseappend = df_renthistorical.append(df_rental).drop_duplicates()\n",
    "\n",
    "\n",
    "#Developer \n",
    "#Keep 2 years of data\n",
    "df_developer['refPeriod'] = pd.to_datetime(df_developer['refPeriod'] ,errors='coerce')\n",
    "max_date_dev = df_developer['refPeriod'].max()  + relativedelta(years = -2)\n",
    "df_developerdatabase['refPeriod'] = pd.to_datetime(df_developerdatabase['refPeriod'],errors='coerce')\n",
    "df_developerhistorical = df_developerdatabase[(df_developerdatabase['refPeriod'] >= max_date_dev)]\n",
    "df_developerdatabaseappend = df_developerhistorical.append(df_developer).drop_duplicates()\n"
   ]
  },
  {
   "cell_type": "code",
   "execution_count": 91,
   "metadata": {},
   "outputs": [],
   "source": [
    "\n",
    "#Export Data\n",
    "df_privatedatabaseappend.to_excel('Data/TransactionDatabase.xlsx')\n",
    "df_rentaldatabaseappend.to_excel('Data/RentalDatabase.xlsx')\n",
    "df_developerdatabaseappend.to_excel('Data/DeveloperDatabase.xlsx')\n",
    "df_pipeline.to_excel('Data/Pipeline.xlsx')"
   ]
  },
  {
   "cell_type": "code",
   "execution_count": null,
   "metadata": {},
   "outputs": [],
   "source": []
  }
 ],
 "metadata": {
  "interpreter": {
   "hash": "6cacba8080cd7cb3765c9c84d2a4a5dd6dd11f91a8a57f8f89ab82e3916942d1"
  },
  "kernelspec": {
   "display_name": "Python 3.7.4 64-bit ('base': conda)",
   "name": "python3"
  },
  "language_info": {
   "codemirror_mode": {
    "name": "ipython",
    "version": 3
   },
   "file_extension": ".py",
   "mimetype": "text/x-python",
   "name": "python",
   "nbconvert_exporter": "python",
   "pygments_lexer": "ipython3",
   "version": "3.7.4"
  },
  "orig_nbformat": 4
 },
 "nbformat": 4,
 "nbformat_minor": 2
}
